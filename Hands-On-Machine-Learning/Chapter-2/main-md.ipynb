{
 "cells": [
  {
   "cell_type": "markdown",
   "metadata": {},
   "source": [
    "### Carga y Exploración de Datos\n",
    "\n",
    "- Se cargan los datos de un archivo CSV.\n",
    "- Exploración inicial con `head()`, `info()`, `describe()` y `hist()`.\n",
    "\n",
    "### División del Conjunto de Datos\n",
    "\n",
    "- División aleatoria manual y con `train_test_split`.\n",
    "- Estratificación basada en la categoría de ingresos (`income_cat`) con `StratifiedShuffleSplit`.\n",
    "\n",
    "### Análisis Exploratorio de Datos (EDA)\n",
    "\n",
    "- Visualización de distribuciones y correlaciones.\n",
    "- Creación de nuevas características (`rooms_per_house`, `bedrooms_ratio`, `people_per_house`).\n",
    "\n",
    "### Preprocesamiento\n",
    "\n",
    "- Relleno de valores nulos con la mediana usando `SimpleImputer`.\n",
    "- Codificación de variables categóricas con `OrdinalEncoder` y `OneHotEncoder`.\n",
    "\n",
    "### Escalamiento y Transformaciones\n",
    "\n",
    "- Escalamiento de características numéricas con `MinMaxScaler` y `StandardScaler`.\n",
    "- Aplicación de kernel RBF para similitud de edad y ubicación.\n",
    "\n",
    "### Transformadores Personalizados\n",
    "\n",
    "- `FunctionTransformer` para log y similitud RBF.\n",
    "- `StandardScalerClone` y `ClusterSimilarity`.\n",
    "\n",
    "### Pipeline y ColumnTransformer\n",
    "\n",
    "- Creación de `Pipeline` para numéricas y categóricas.\n",
    "- Uso de `ColumnTransformer` y `make_column_transformer` para aplicar transformaciones específicas a columnas.\n",
    "- Ejemplo de pipeline complejo incluyendo ratios, log y similitud de cluster.\n",
    "\n",
    "### Preparación Final de Datos\n",
    "\n",
    "- Transformación final de los datos con el preprocesamiento definido.\n",
    "- Verificación de las características transformadas y sus nombres.\n",
    "\n",
    "### Consejos Importantes\n",
    "\n",
    "- **Recomendación**: Usa `make_column_transformer` para aplicar transformaciones específicas a columnas en un solo paso.\n",
    "- **Consejo**: Simplifica y organiza mejor tu preprocesamiento de datos con `ColumnTransformer`.\n"
   ]
  },
  {
   "cell_type": "markdown",
   "metadata": {},
   "source": []
  }
 ],
 "metadata": {
  "language_info": {
   "name": "python"
  }
 },
 "nbformat": 4,
 "nbformat_minor": 2
}
